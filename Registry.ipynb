{
 "cells": [
  {
   "cell_type": "markdown",
   "metadata": {},
   "source": [
    "### Optimization process\n",
    "\n",
    "\n",
    "List in the following Markdown cell the different architectures that have been trained, including the motivation and results/improvements of the different trainings. "
   ]
  },
  {
   "cell_type": "markdown",
   "metadata": {},
   "source": [
    "1.(EXAMPLE)\n",
    "\n",
    "* Architecture: Hidden layers: 3, Optimizer: RMSprop, learning rate: 0.01, batch size: 128, epochs: 100.\n",
    "* Motivation: Reduction of the learning rate to try to get closer to the minimum of the loss function.\n",
    "* Results: improvement in val_loss from 0.70 to 0.75 \n",
    "\n",
    "2.\n",
    "\n",
    "\n",
    "3.\n",
    "\n",
    "\n",
    "...."
   ]
  },
  {
   "cell_type": "markdown",
   "metadata": {},
   "source": [
    "### Best model found\n",
    "\n",
    "Copy in the next cell the best architecture found"
   ]
  },
  {
   "cell_type": "code",
   "execution_count": null,
   "metadata": {},
   "outputs": [],
   "source": [
    "# (EXAMPLE)\n",
    "\n",
    "model = Sequential()\n",
    "model.add(Dense(20, activation='sigmoid', input_dim=30))\n",
    "model.add(Dense(10,activation='sigmoid'))\n",
    "model.add(Dense(5, activation='sigmoid'))\n",
    "model.add(Dense(1))\n",
    "model.add(Activation('sigmoid')\n",
    "\n",
    "model.compile(loss='binary_crossentropy', optimizer=optimizers.SGD(), metrics=['accuracy'])\n",
    "\n",
    "history = model.fit(x_train, y_train, epochs=100,\n",
    "          validation_split=0.10,\n",
    "          batch_size=128,\n",
    "          verbose=2,\n",
    "          shuffle= True)"
   ]
  }
 ],
 "metadata": {
  "kernelspec": {
   "display_name": "Python 3",
   "language": "python",
   "name": "python3"
  },
  "language_info": {
   "codemirror_mode": {
    "name": "ipython",
    "version": 3
   },
   "file_extension": ".py",
   "mimetype": "text/x-python",
   "name": "python",
   "nbconvert_exporter": "python",
   "pygments_lexer": "ipython3",
   "version": "3.6.5"
  }
 },
 "nbformat": 4,
 "nbformat_minor": 2
}
